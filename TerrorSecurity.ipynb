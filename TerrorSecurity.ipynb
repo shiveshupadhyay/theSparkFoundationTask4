{
 "cells": [
  {
   "cell_type": "markdown",
   "metadata": {},
   "source": [
    "# Shivesh Upadhyay"
   ]
  },
  {
   "cell_type": "markdown",
   "metadata": {},
   "source": [
    "## Looking at data"
   ]
  },
  {
   "cell_type": "code",
   "execution_count": 1,
   "metadata": {},
   "outputs": [],
   "source": [
    "import pandas as pd \n",
    "import numpy as np \n",
    "import matplotlib.pyplot as plt\n",
    "import seaborn as sns"
   ]
  },
  {
   "cell_type": "code",
   "execution_count": 2,
   "metadata": {},
   "outputs": [
    {
     "name": "stderr",
     "output_type": "stream",
     "text": [
      "C:\\ProgramData\\Anaconda3\\lib\\site-packages\\IPython\\core\\interactiveshell.py:3071: DtypeWarning: Columns (4,6,31,33,61,62,63,76,79,90,92,94,96,114,115,121) have mixed types.Specify dtype option on import or set low_memory=False.\n",
      "  has_raised = await self.run_ast_nodes(code_ast.body, cell_name,\n"
     ]
    },
    {
     "data": {
      "text/html": [
       "<div>\n",
       "<style scoped>\n",
       "    .dataframe tbody tr th:only-of-type {\n",
       "        vertical-align: middle;\n",
       "    }\n",
       "\n",
       "    .dataframe tbody tr th {\n",
       "        vertical-align: top;\n",
       "    }\n",
       "\n",
       "    .dataframe thead th {\n",
       "        text-align: right;\n",
       "    }\n",
       "</style>\n",
       "<table border=\"1\" class=\"dataframe\">\n",
       "  <thead>\n",
       "    <tr style=\"text-align: right;\">\n",
       "      <th></th>\n",
       "      <th>eventid</th>\n",
       "      <th>iyear</th>\n",
       "      <th>imonth</th>\n",
       "      <th>iday</th>\n",
       "      <th>approxdate</th>\n",
       "      <th>extended</th>\n",
       "      <th>resolution</th>\n",
       "      <th>country</th>\n",
       "      <th>country_txt</th>\n",
       "      <th>region</th>\n",
       "      <th>...</th>\n",
       "      <th>addnotes</th>\n",
       "      <th>scite1</th>\n",
       "      <th>scite2</th>\n",
       "      <th>scite3</th>\n",
       "      <th>dbsource</th>\n",
       "      <th>INT_LOG</th>\n",
       "      <th>INT_IDEO</th>\n",
       "      <th>INT_MISC</th>\n",
       "      <th>INT_ANY</th>\n",
       "      <th>related</th>\n",
       "    </tr>\n",
       "  </thead>\n",
       "  <tbody>\n",
       "    <tr>\n",
       "      <th>0</th>\n",
       "      <td>1.970000e+11</td>\n",
       "      <td>1970</td>\n",
       "      <td>7</td>\n",
       "      <td>2</td>\n",
       "      <td>NaN</td>\n",
       "      <td>0</td>\n",
       "      <td>NaN</td>\n",
       "      <td>58</td>\n",
       "      <td>Dominican Republic</td>\n",
       "      <td>2</td>\n",
       "      <td>...</td>\n",
       "      <td>NaN</td>\n",
       "      <td>NaN</td>\n",
       "      <td>NaN</td>\n",
       "      <td>NaN</td>\n",
       "      <td>PGIS</td>\n",
       "      <td>0</td>\n",
       "      <td>0</td>\n",
       "      <td>0</td>\n",
       "      <td>0</td>\n",
       "      <td>NaN</td>\n",
       "    </tr>\n",
       "    <tr>\n",
       "      <th>1</th>\n",
       "      <td>1.970000e+11</td>\n",
       "      <td>1970</td>\n",
       "      <td>0</td>\n",
       "      <td>0</td>\n",
       "      <td>NaN</td>\n",
       "      <td>0</td>\n",
       "      <td>NaN</td>\n",
       "      <td>130</td>\n",
       "      <td>Mexico</td>\n",
       "      <td>1</td>\n",
       "      <td>...</td>\n",
       "      <td>NaN</td>\n",
       "      <td>NaN</td>\n",
       "      <td>NaN</td>\n",
       "      <td>NaN</td>\n",
       "      <td>PGIS</td>\n",
       "      <td>0</td>\n",
       "      <td>1</td>\n",
       "      <td>1</td>\n",
       "      <td>1</td>\n",
       "      <td>NaN</td>\n",
       "    </tr>\n",
       "    <tr>\n",
       "      <th>2</th>\n",
       "      <td>1.970010e+11</td>\n",
       "      <td>1970</td>\n",
       "      <td>1</td>\n",
       "      <td>0</td>\n",
       "      <td>NaN</td>\n",
       "      <td>0</td>\n",
       "      <td>NaN</td>\n",
       "      <td>160</td>\n",
       "      <td>Philippines</td>\n",
       "      <td>5</td>\n",
       "      <td>...</td>\n",
       "      <td>NaN</td>\n",
       "      <td>NaN</td>\n",
       "      <td>NaN</td>\n",
       "      <td>NaN</td>\n",
       "      <td>PGIS</td>\n",
       "      <td>-9</td>\n",
       "      <td>-9</td>\n",
       "      <td>1</td>\n",
       "      <td>1</td>\n",
       "      <td>NaN</td>\n",
       "    </tr>\n",
       "    <tr>\n",
       "      <th>3</th>\n",
       "      <td>1.970010e+11</td>\n",
       "      <td>1970</td>\n",
       "      <td>1</td>\n",
       "      <td>0</td>\n",
       "      <td>NaN</td>\n",
       "      <td>0</td>\n",
       "      <td>NaN</td>\n",
       "      <td>78</td>\n",
       "      <td>Greece</td>\n",
       "      <td>8</td>\n",
       "      <td>...</td>\n",
       "      <td>NaN</td>\n",
       "      <td>NaN</td>\n",
       "      <td>NaN</td>\n",
       "      <td>NaN</td>\n",
       "      <td>PGIS</td>\n",
       "      <td>-9</td>\n",
       "      <td>-9</td>\n",
       "      <td>1</td>\n",
       "      <td>1</td>\n",
       "      <td>NaN</td>\n",
       "    </tr>\n",
       "    <tr>\n",
       "      <th>4</th>\n",
       "      <td>1.970010e+11</td>\n",
       "      <td>1970</td>\n",
       "      <td>1</td>\n",
       "      <td>0</td>\n",
       "      <td>NaN</td>\n",
       "      <td>0</td>\n",
       "      <td>NaN</td>\n",
       "      <td>101</td>\n",
       "      <td>Japan</td>\n",
       "      <td>4</td>\n",
       "      <td>...</td>\n",
       "      <td>NaN</td>\n",
       "      <td>NaN</td>\n",
       "      <td>NaN</td>\n",
       "      <td>NaN</td>\n",
       "      <td>PGIS</td>\n",
       "      <td>-9</td>\n",
       "      <td>-9</td>\n",
       "      <td>1</td>\n",
       "      <td>1</td>\n",
       "      <td>NaN</td>\n",
       "    </tr>\n",
       "    <tr>\n",
       "      <th>5</th>\n",
       "      <td>1.970010e+11</td>\n",
       "      <td>1970</td>\n",
       "      <td>1</td>\n",
       "      <td>1</td>\n",
       "      <td>NaN</td>\n",
       "      <td>0</td>\n",
       "      <td>NaN</td>\n",
       "      <td>217</td>\n",
       "      <td>United States</td>\n",
       "      <td>1</td>\n",
       "      <td>...</td>\n",
       "      <td>The Cairo Chief of Police, William Petersen, r...</td>\n",
       "      <td>\"Police Chief Quits,\" Washington Post, January...</td>\n",
       "      <td>\"Cairo Police Chief Quits; Decries Local 'Mili...</td>\n",
       "      <td>Christopher Hewitt, \"Political Violence and Te...</td>\n",
       "      <td>Hewitt Project</td>\n",
       "      <td>-9</td>\n",
       "      <td>-9</td>\n",
       "      <td>0</td>\n",
       "      <td>-9</td>\n",
       "      <td>NaN</td>\n",
       "    </tr>\n",
       "    <tr>\n",
       "      <th>6</th>\n",
       "      <td>1.970010e+11</td>\n",
       "      <td>1970</td>\n",
       "      <td>1</td>\n",
       "      <td>2</td>\n",
       "      <td>NaN</td>\n",
       "      <td>0</td>\n",
       "      <td>NaN</td>\n",
       "      <td>218</td>\n",
       "      <td>Uruguay</td>\n",
       "      <td>3</td>\n",
       "      <td>...</td>\n",
       "      <td>NaN</td>\n",
       "      <td>NaN</td>\n",
       "      <td>NaN</td>\n",
       "      <td>NaN</td>\n",
       "      <td>PGIS</td>\n",
       "      <td>0</td>\n",
       "      <td>0</td>\n",
       "      <td>0</td>\n",
       "      <td>0</td>\n",
       "      <td>NaN</td>\n",
       "    </tr>\n",
       "    <tr>\n",
       "      <th>7</th>\n",
       "      <td>1.970010e+11</td>\n",
       "      <td>1970</td>\n",
       "      <td>1</td>\n",
       "      <td>2</td>\n",
       "      <td>NaN</td>\n",
       "      <td>0</td>\n",
       "      <td>NaN</td>\n",
       "      <td>217</td>\n",
       "      <td>United States</td>\n",
       "      <td>1</td>\n",
       "      <td>...</td>\n",
       "      <td>Damages were estimated to be between $20,000-$...</td>\n",
       "      <td>Committee on Government Operations United Stat...</td>\n",
       "      <td>Christopher Hewitt, \"Political Violence and Te...</td>\n",
       "      <td>NaN</td>\n",
       "      <td>Hewitt Project</td>\n",
       "      <td>-9</td>\n",
       "      <td>-9</td>\n",
       "      <td>0</td>\n",
       "      <td>-9</td>\n",
       "      <td>NaN</td>\n",
       "    </tr>\n",
       "    <tr>\n",
       "      <th>8</th>\n",
       "      <td>1.970010e+11</td>\n",
       "      <td>1970</td>\n",
       "      <td>1</td>\n",
       "      <td>2</td>\n",
       "      <td>NaN</td>\n",
       "      <td>0</td>\n",
       "      <td>NaN</td>\n",
       "      <td>217</td>\n",
       "      <td>United States</td>\n",
       "      <td>1</td>\n",
       "      <td>...</td>\n",
       "      <td>The New Years Gang issue a communiqué to a loc...</td>\n",
       "      <td>Tom Bates, \"Rads: The 1970 Bombing of the Army...</td>\n",
       "      <td>David Newman, Sandra Sutherland, and Jon Stewa...</td>\n",
       "      <td>The Wisconsin Cartographers' Guild, \"Wisconsin...</td>\n",
       "      <td>Hewitt Project</td>\n",
       "      <td>0</td>\n",
       "      <td>0</td>\n",
       "      <td>0</td>\n",
       "      <td>0</td>\n",
       "      <td>NaN</td>\n",
       "    </tr>\n",
       "    <tr>\n",
       "      <th>9</th>\n",
       "      <td>1.970010e+11</td>\n",
       "      <td>1970</td>\n",
       "      <td>1</td>\n",
       "      <td>3</td>\n",
       "      <td>NaN</td>\n",
       "      <td>0</td>\n",
       "      <td>NaN</td>\n",
       "      <td>217</td>\n",
       "      <td>United States</td>\n",
       "      <td>1</td>\n",
       "      <td>...</td>\n",
       "      <td>Karl Armstrong's girlfriend, Lynn Schultz, dro...</td>\n",
       "      <td>Committee on Government Operations United Stat...</td>\n",
       "      <td>Tom Bates, \"Rads: The 1970 Bombing of the Army...</td>\n",
       "      <td>David Newman, Sandra Sutherland, and Jon Stewa...</td>\n",
       "      <td>Hewitt Project</td>\n",
       "      <td>0</td>\n",
       "      <td>0</td>\n",
       "      <td>0</td>\n",
       "      <td>0</td>\n",
       "      <td>NaN</td>\n",
       "    </tr>\n",
       "  </tbody>\n",
       "</table>\n",
       "<p>10 rows × 135 columns</p>\n",
       "</div>"
      ],
      "text/plain": [
       "        eventid  iyear  imonth  iday approxdate  extended resolution  country  \\\n",
       "0  1.970000e+11   1970       7     2        NaN         0        NaN       58   \n",
       "1  1.970000e+11   1970       0     0        NaN         0        NaN      130   \n",
       "2  1.970010e+11   1970       1     0        NaN         0        NaN      160   \n",
       "3  1.970010e+11   1970       1     0        NaN         0        NaN       78   \n",
       "4  1.970010e+11   1970       1     0        NaN         0        NaN      101   \n",
       "5  1.970010e+11   1970       1     1        NaN         0        NaN      217   \n",
       "6  1.970010e+11   1970       1     2        NaN         0        NaN      218   \n",
       "7  1.970010e+11   1970       1     2        NaN         0        NaN      217   \n",
       "8  1.970010e+11   1970       1     2        NaN         0        NaN      217   \n",
       "9  1.970010e+11   1970       1     3        NaN         0        NaN      217   \n",
       "\n",
       "          country_txt  region  ...  \\\n",
       "0  Dominican Republic       2  ...   \n",
       "1              Mexico       1  ...   \n",
       "2         Philippines       5  ...   \n",
       "3              Greece       8  ...   \n",
       "4               Japan       4  ...   \n",
       "5       United States       1  ...   \n",
       "6             Uruguay       3  ...   \n",
       "7       United States       1  ...   \n",
       "8       United States       1  ...   \n",
       "9       United States       1  ...   \n",
       "\n",
       "                                            addnotes  \\\n",
       "0                                                NaN   \n",
       "1                                                NaN   \n",
       "2                                                NaN   \n",
       "3                                                NaN   \n",
       "4                                                NaN   \n",
       "5  The Cairo Chief of Police, William Petersen, r...   \n",
       "6                                                NaN   \n",
       "7  Damages were estimated to be between $20,000-$...   \n",
       "8  The New Years Gang issue a communiqué to a loc...   \n",
       "9  Karl Armstrong's girlfriend, Lynn Schultz, dro...   \n",
       "\n",
       "                                              scite1  \\\n",
       "0                                                NaN   \n",
       "1                                                NaN   \n",
       "2                                                NaN   \n",
       "3                                                NaN   \n",
       "4                                                NaN   \n",
       "5  \"Police Chief Quits,\" Washington Post, January...   \n",
       "6                                                NaN   \n",
       "7  Committee on Government Operations United Stat...   \n",
       "8  Tom Bates, \"Rads: The 1970 Bombing of the Army...   \n",
       "9  Committee on Government Operations United Stat...   \n",
       "\n",
       "                                              scite2  \\\n",
       "0                                                NaN   \n",
       "1                                                NaN   \n",
       "2                                                NaN   \n",
       "3                                                NaN   \n",
       "4                                                NaN   \n",
       "5  \"Cairo Police Chief Quits; Decries Local 'Mili...   \n",
       "6                                                NaN   \n",
       "7  Christopher Hewitt, \"Political Violence and Te...   \n",
       "8  David Newman, Sandra Sutherland, and Jon Stewa...   \n",
       "9  Tom Bates, \"Rads: The 1970 Bombing of the Army...   \n",
       "\n",
       "                                              scite3        dbsource  INT_LOG  \\\n",
       "0                                                NaN            PGIS        0   \n",
       "1                                                NaN            PGIS        0   \n",
       "2                                                NaN            PGIS       -9   \n",
       "3                                                NaN            PGIS       -9   \n",
       "4                                                NaN            PGIS       -9   \n",
       "5  Christopher Hewitt, \"Political Violence and Te...  Hewitt Project       -9   \n",
       "6                                                NaN            PGIS        0   \n",
       "7                                                NaN  Hewitt Project       -9   \n",
       "8  The Wisconsin Cartographers' Guild, \"Wisconsin...  Hewitt Project        0   \n",
       "9  David Newman, Sandra Sutherland, and Jon Stewa...  Hewitt Project        0   \n",
       "\n",
       "   INT_IDEO INT_MISC INT_ANY  related  \n",
       "0         0        0       0      NaN  \n",
       "1         1        1       1      NaN  \n",
       "2        -9        1       1      NaN  \n",
       "3        -9        1       1      NaN  \n",
       "4        -9        1       1      NaN  \n",
       "5        -9        0      -9      NaN  \n",
       "6         0        0       0      NaN  \n",
       "7        -9        0      -9      NaN  \n",
       "8         0        0       0      NaN  \n",
       "9         0        0       0      NaN  \n",
       "\n",
       "[10 rows x 135 columns]"
      ]
     },
     "execution_count": 2,
     "metadata": {},
     "output_type": "execute_result"
    }
   ],
   "source": [
    "dataset = pd.read_csv(r'terror.csv',encoding='latin1')\n",
    "dataset.head(10)"
   ]
  },
  {
   "cell_type": "code",
   "execution_count": 3,
   "metadata": {},
   "outputs": [
    {
     "data": {
      "text/plain": [
       "Index(['eventid', 'iyear', 'imonth', 'iday', 'approxdate', 'extended',\n",
       "       'resolution', 'country', 'country_txt', 'region',\n",
       "       ...\n",
       "       'addnotes', 'scite1', 'scite2', 'scite3', 'dbsource', 'INT_LOG',\n",
       "       'INT_IDEO', 'INT_MISC', 'INT_ANY', 'related'],\n",
       "      dtype='object', length=135)"
      ]
     },
     "execution_count": 3,
     "metadata": {},
     "output_type": "execute_result"
    }
   ],
   "source": [
    "dataset.columns"
   ]
  },
  {
   "cell_type": "code",
   "execution_count": 4,
   "metadata": {},
   "outputs": [
    {
     "data": {
      "text/plain": [
       "eventid         576\n",
       "iyear            47\n",
       "imonth           13\n",
       "iday             32\n",
       "approxdate     2244\n",
       "              ...  \n",
       "INT_LOG           3\n",
       "INT_IDEO          3\n",
       "INT_MISC          3\n",
       "INT_ANY           3\n",
       "related       14306\n",
       "Length: 135, dtype: int64"
      ]
     },
     "execution_count": 4,
     "metadata": {},
     "output_type": "execute_result"
    }
   ],
   "source": [
    "dataset.nunique()"
   ]
  },
  {
   "cell_type": "markdown",
   "metadata": {},
   "source": [
    "### There are too many columns and too many unique values for each column, but by looking at CSV file we get to know that columns : - ('region_txt' , 'country_txt', 'provstate' and 'city') are used for location. So in following we will look the number of terror attacks according to these locations. We will start with column with more specific location but less number of  unique values."
   ]
  },
  {
   "cell_type": "code",
   "execution_count": 11,
   "metadata": {},
   "outputs": [
    {
     "data": {
      "text/plain": [
       "array(['Central America & Caribbean', 'North America', 'Southeast Asia',\n",
       "       'Western Europe', 'East Asia', 'South America', 'Eastern Europe',\n",
       "       'Sub-Saharan Africa', 'Middle East & North Africa',\n",
       "       'Australasia & Oceania', 'South Asia', 'Central Asia'],\n",
       "      dtype=object)"
      ]
     },
     "execution_count": 11,
     "metadata": {},
     "output_type": "execute_result"
    }
   ],
   "source": [
    "dataset['region_txt'].unique()"
   ]
  },
  {
   "cell_type": "markdown",
   "metadata": {},
   "source": [
    "#### We see region_txt has less unique value but it is too less in number that is a very broader category so we move to country_txt"
   ]
  },
  {
   "cell_type": "code",
   "execution_count": 5,
   "metadata": {},
   "outputs": [
    {
     "data": {
      "text/plain": [
       "array(['Dominican Republic', 'Mexico', 'Philippines', 'Greece', 'Japan',\n",
       "       'United States', 'Uruguay', 'Italy', 'East Germany (GDR)',\n",
       "       'Ethiopia', 'Guatemala', 'Venezuela', 'West Germany (FRG)',\n",
       "       'Switzerland', 'Jordan', 'Spain', 'Brazil', 'Egypt', 'Argentina',\n",
       "       'Lebanon', 'Ireland', 'Turkey', 'Paraguay', 'Iran',\n",
       "       'United Kingdom', 'Colombia', 'Bolivia', 'Nicaragua',\n",
       "       'Netherlands', 'Belgium', 'Canada', 'Australia', 'Pakistan',\n",
       "       'Zambia', 'Sweden', 'Costa Rica', 'South Yemen', 'Cambodia',\n",
       "       'Israel', 'Poland', 'Taiwan', 'Panama', 'Kuwait',\n",
       "       'West Bank and Gaza Strip', 'Austria', 'Czechoslovakia', 'India',\n",
       "       'France', 'South Vietnam', 'Brunei', 'Zaire',\n",
       "       \"People's Republic of the Congo\", 'Portugal', 'Algeria',\n",
       "       'El Salvador', 'Thailand', 'Haiti', 'Sudan', 'Morocco', 'Cyprus',\n",
       "       'Myanmar', 'Afghanistan', 'Peru', 'Chile', 'Honduras',\n",
       "       'Yugoslavia', 'Ecuador', 'New Zealand', 'Malaysia', 'Singapore',\n",
       "       'Botswana', 'Jamaica', 'Chad', 'North Yemen', 'Andorra', 'Syria',\n",
       "       'South Korea', 'United Arab Emirates', 'South Africa', 'Kenya',\n",
       "       'Iraq', 'Somalia', 'Tanzania', 'Sri Lanka', 'Namibia', 'Bahamas',\n",
       "       'Nigeria', 'Barbados', 'Trinidad and Tobago', 'Bangladesh',\n",
       "       'Angola', 'Mauritania', 'Saudi Arabia', 'Djibouti', 'Indonesia',\n",
       "       'Malta', 'Rhodesia', 'Soviet Union', 'Denmark', 'Western Sahara',\n",
       "       'Guyana', 'Mozambique', 'Tunisia', 'Uganda', 'Norway', 'Lesotho',\n",
       "       'Gabon', 'Libya', 'Bahrain', 'Hong Kong', 'Senegal', 'Zimbabwe',\n",
       "       'Guinea', 'Grenada', 'New Hebrides', 'Belize', 'Guadeloupe',\n",
       "       'Martinique', 'Vatican City', 'Albania',\n",
       "       'Central African Republic', 'Seychelles', 'Dominica', 'Qatar',\n",
       "       'Bulgaria', 'Suriname', 'Swaziland', 'Luxembourg', 'Iceland',\n",
       "       'French Guiana', 'Falkland Islands', 'Burkina Faso',\n",
       "       'New Caledonia', 'Romania', 'Niger', 'Nepal', 'Togo', 'Finland',\n",
       "       'Fiji', 'Ghana', 'Maldives', 'Mauritius', 'Hungary', 'Laos',\n",
       "       'Papua New Guinea', 'China', 'Liberia', 'Republic of the Congo',\n",
       "       'Mali', 'Germany', 'Yemen', 'Rwanda', 'Sierra Leone', 'Cameroon',\n",
       "       'Cuba', 'Croatia', 'Georgia', 'Azerbaijan', 'Madagascar',\n",
       "       'Lithuania', 'Burundi', 'Ukraine', 'Moldova', 'Armenia', 'Russia',\n",
       "       'Ivory Coast', 'Kazakhstan', 'Antigua and Barbuda',\n",
       "       'Bosnia-Herzegovina', 'Equatorial Guinea', 'Tajikistan', 'Malawi',\n",
       "       'Uzbekistan', 'Latvia', 'Estonia', 'Vietnam', 'Comoros', 'Benin',\n",
       "       'Slovak Republic', 'Macedonia', 'Wallis and Futuna', 'Belarus',\n",
       "       'Czech Republic', 'Slovenia', 'Gambia', 'North Korea', 'Eritrea',\n",
       "       'St. Kitts and Nevis', 'French Polynesia', 'Macau', 'Kyrgyzstan',\n",
       "       'Vanuatu', 'Democratic Republic of the Congo', 'Kosovo',\n",
       "       'Solomon Islands', 'East Timor', 'St. Lucia', 'Guinea-Bissau',\n",
       "       'Montenegro', 'International', 'Turkmenistan', 'Serbia-Montenegro',\n",
       "       'Bhutan', 'Serbia', 'South Sudan'], dtype=object)"
      ]
     },
     "execution_count": 5,
     "metadata": {},
     "output_type": "execute_result"
    }
   ],
   "source": [
    "dataset[\"country_txt\"].unique()"
   ]
  },
  {
   "cell_type": "markdown",
   "metadata": {},
   "source": [
    "#### From above we  see country_txt has fairly large unique values but is  still can be handled in analysis easily  and it is also more specific location than region_txt. So we will look for null values and start our analysis from here only."
   ]
  },
  {
   "cell_type": "code",
   "execution_count": 25,
   "metadata": {},
   "outputs": [
    {
     "data": {
      "text/plain": [
       "0"
      ]
     },
     "execution_count": 25,
     "metadata": {},
     "output_type": "execute_result"
    }
   ],
   "source": [
    "dataset[\"country_txt\"].isnull().sum()"
   ]
  },
  {
   "cell_type": "markdown",
   "metadata": {},
   "source": [
    "#### No missing value so green signal to moove ahead"
   ]
  },
  {
   "cell_type": "code",
   "execution_count": 26,
   "metadata": {},
   "outputs": [
    {
     "data": {
      "image/png": "[encoded data removed]",
      "text/plain": [
       "<Figure size 720x504 with 1 Axes>"
      ]
     },
     "metadata": {},
     "output_type": "display_data"
    }
   ],
   "source": [
    "country = dataset[\"country_txt\"].unique()\n",
    "count = [] \n",
    "for i in country:\n",
    "    count.append(len(dataset[dataset['country_txt'] == i]))\n",
    "fig = plt.figure(figsize =(10, 7))\n",
    "plt.pie(count, labels = country)\n",
    "plt.show()"
   ]
  },
  {
   "cell_type": "markdown",
   "metadata": {},
   "source": [
    "### From above pie-chart it is evident that  'Iraq' has most terror cases followed by 'Pakistan' and 'India'. But for surity we can check  by code below"
   ]
  },
  {
   "cell_type": "code",
   "execution_count": 27,
   "metadata": {},
   "outputs": [
    {
     "name": "stdout",
     "output_type": "stream",
     "text": [
      "Iraq 24636\n"
     ]
    }
   ],
   "source": [
    "max = 0;\n",
    "cx = \"\" \n",
    "for i in country:\n",
    "    if (len(dataset[dataset['country_txt'] == i]) > max):\n",
    "        max = len(dataset[dataset['country_txt'] == i])\n",
    "        cx = i\n",
    "print(cx, max)"
   ]
  },
  {
   "cell_type": "markdown",
   "metadata": {},
   "source": [
    "### Now we will look for provstate inside iraq and then city inside most affected provstate"
   ]
  },
  {
   "cell_type": "code",
   "execution_count": 28,
   "metadata": {},
   "outputs": [],
   "source": [
    "d1 = dataset[dataset['country_txt'] == 'Iraq']"
   ]
  },
  {
   "cell_type": "code",
   "execution_count": 29,
   "metadata": {},
   "outputs": [
    {
     "data": {
      "text/plain": [
       "array(['Middle East & North Africa'], dtype=object)"
      ]
     },
     "execution_count": 29,
     "metadata": {},
     "output_type": "execute_result"
    }
   ],
   "source": [
    "d1['region_txt'].unique()"
   ]
  },
  {
   "cell_type": "code",
   "execution_count": 30,
   "metadata": {
    "scrolled": true
   },
   "outputs": [
    {
     "data": {
      "text/plain": [
       "array(['Nineveh', 'Baghdad', 'Unknown', 'Basra', 'At Tamim',\n",
       "       'Sulaymaniyah', 'Kirkuk', 'Dihok', 'Saladin', 'Arbil', 'Diyala',\n",
       "       'Maysan', 'Dhi Qar', 'Al Anbar', 'Muthanna', 'Karbala', 'Wasit',\n",
       "       'Najaf', 'Babil', 'Qadisiyah', 'Kunar', 'Khost', 'Al Qadisiyah',\n",
       "       'NIneveh', 'unknown'], dtype=object)"
      ]
     },
     "execution_count": 30,
     "metadata": {},
     "output_type": "execute_result"
    }
   ],
   "source": [
    "d1['provstate'].unique()"
   ]
  },
  {
   "cell_type": "code",
   "execution_count": 31,
   "metadata": {},
   "outputs": [
    {
     "data": {
      "text/plain": [
       "0"
      ]
     },
     "execution_count": 31,
     "metadata": {},
     "output_type": "execute_result"
    }
   ],
   "source": [
    "d1['provstate'].isnull().sum()"
   ]
  },
  {
   "cell_type": "code",
   "execution_count": 32,
   "metadata": {},
   "outputs": [
    {
     "name": "stdout",
     "output_type": "stream",
     "text": [
      "Nineveh 3241\n",
      "Baghdad 7644\n",
      "Unknown 148\n",
      "Basra 266\n",
      "At Tamim 125\n",
      "Sulaymaniyah 60\n",
      "Kirkuk 1669\n",
      "Dihok 29\n",
      "Saladin 3411\n",
      "Arbil 99\n",
      "Diyala 3041\n",
      "Maysan 31\n",
      "Dhi Qar 66\n",
      "Al Anbar 3299\n",
      "Muthanna 20\n",
      "Karbala 142\n",
      "Wasit 121\n",
      "Najaf 53\n",
      "Babil 1110\n",
      "Qadisiyah 27\n",
      "Kunar 1\n",
      "Khost 1\n",
      "Al Qadisiyah 30\n",
      "NIneveh 1\n",
      "unknown 1\n"
     ]
    }
   ],
   "source": [
    "x1 = d1['provstate'].unique()\n",
    "for i in x1:\n",
    "    print(i , len(d1[d1['provstate'] == i]))"
   ]
  },
  {
   "cell_type": "code",
   "execution_count": 33,
   "metadata": {
    "scrolled": true
   },
   "outputs": [],
   "source": [
    "d2 = d1[d1['provstate'] == 'Baghdad']\n",
    "x2 = d2['city'].unique()"
   ]
  },
  {
   "cell_type": "code",
   "execution_count": 34,
   "metadata": {},
   "outputs": [
    {
     "data": {
      "text/plain": [
       "0"
      ]
     },
     "execution_count": 34,
     "metadata": {},
     "output_type": "execute_result"
    }
   ],
   "source": [
    "d2['city'].isnull().sum()"
   ]
  },
  {
   "cell_type": "code",
   "execution_count": 35,
   "metadata": {},
   "outputs": [
    {
     "name": "stdout",
     "output_type": "stream",
     "text": [
      "Baghdad 7585\n",
      "Arab Jabour 1\n",
      "Unknown 562\n",
      "Hawr Rajab 44\n",
      "Hay Abu-Dashir 1\n",
      "Tariq 1\n",
      "Tajiyat 3\n",
      "Akarkouf 4\n",
      "Baghdad district 1\n",
      "Albu Khalid 1\n",
      "Thalibah 2\n"
     ]
    }
   ],
   "source": [
    "for i in x2:\n",
    "    print(i , len(d1[d1['city'] == i]))"
   ]
  },
  {
   "cell_type": "markdown",
   "metadata": {},
   "source": [
    "## So 'Baghdad' is most terror affected city in world. It may possible if any city in pakistan also has more terror cases. So for surity we will look for it also."
   ]
  },
  {
   "cell_type": "code",
   "execution_count": 36,
   "metadata": {},
   "outputs": [],
   "source": [
    "d3 = dataset[dataset['country_txt'] == 'Pakistan']"
   ]
  },
  {
   "cell_type": "code",
   "execution_count": 37,
   "metadata": {},
   "outputs": [
    {
     "data": {
      "text/plain": [
       "array(['South Asia'], dtype=object)"
      ]
     },
     "execution_count": 37,
     "metadata": {},
     "output_type": "execute_result"
    }
   ],
   "source": [
    "d3['region_txt'].unique()"
   ]
  },
  {
   "cell_type": "code",
   "execution_count": 38,
   "metadata": {},
   "outputs": [
    {
     "data": {
      "text/plain": [
       "array(['Sindh', 'North-West Frontier Province', 'Punjab',\n",
       "       'Islamabad Capital Territory',\n",
       "       'Federally Administered Tribal Areas', 'Unknown', 'Balochistan',\n",
       "       'Khyber Pakhtunkhwa', 'Azad Kashmir', 'Gilgit-Baltistan', 'SIndh'],\n",
       "      dtype=object)"
      ]
     },
     "execution_count": 38,
     "metadata": {},
     "output_type": "execute_result"
    }
   ],
   "source": [
    "d3['provstate'].unique()"
   ]
  },
  {
   "cell_type": "code",
   "execution_count": 39,
   "metadata": {},
   "outputs": [
    {
     "name": "stdout",
     "output_type": "stream",
     "text": [
      "Sindh 3206\n",
      "North-West Frontier Province 866\n",
      "Punjab 829\n",
      "Islamabad Capital Territory 154\n",
      "Federally Administered Tribal Areas 2392\n",
      "Unknown 49\n",
      "Balochistan 3710\n",
      "Khyber Pakhtunkhwa 3084\n",
      "Azad Kashmir 30\n",
      "Gilgit-Baltistan 47\n",
      "SIndh 1\n"
     ]
    }
   ],
   "source": [
    "x3 = d3['provstate'].unique()\n",
    "for i in x3:\n",
    "    print(i , len(d3[d3['provstate'] == i]))"
   ]
  },
  {
   "cell_type": "markdown",
   "metadata": {},
   "source": [
    "## We can see that not even any provstate in pakistan has cases as much as in Baghdad city.      So 'BAGHDAD' city is most terror affected region in world in my analysis"
   ]
  }
 ],
 "metadata": {
  "kernelspec": {
   "display_name": "Python 3",
   "language": "python",
   "name": "python3"
  },
  "language_info": {
   "codemirror_mode": {
    "name": "ipython",
    "version": 3
   },
   "file_extension": ".py",
   "mimetype": "text/x-python",
   "name": "python",
   "nbconvert_exporter": "python",
   "pygments_lexer": "ipython3",
   "version": "3.8.3"
  }
 },
 "nbformat": 4,
 "nbformat_minor": 4
}
